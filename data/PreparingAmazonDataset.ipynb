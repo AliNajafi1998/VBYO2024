{
 "cells": [
  {
   "cell_type": "code",
   "execution_count": 1,
   "metadata": {},
   "outputs": [],
   "source": [
    "import json\n",
    "import pandas as pd\n",
    "import numpy as np\n",
    "import matplotlib.pyplot as plt\n",
    "import re"
   ]
  },
  {
   "cell_type": "markdown",
   "metadata": {},
   "source": [
    "## Amazon Shoes Dataset\n",
    "* [Source](https://data.world/crawlfeeds/amazon-uk-shoes-dataset)"
   ]
  },
  {
   "cell_type": "markdown",
   "metadata": {},
   "source": [
    "### Preparing the data"
   ]
  },
  {
   "cell_type": "code",
   "execution_count": 120,
   "metadata": {},
   "outputs": [],
   "source": [
    "path = \"data/amazon_uk_shoes_dataset.json\"\n",
    "with open(path, \"r\") as f:\n",
    "    data = json.load(f)"
   ]
  },
  {
   "cell_type": "code",
   "execution_count": 62,
   "metadata": {},
   "outputs": [],
   "source": [
    "def get_product_details(item):\n",
    "    fields_to_keep = [\"department\", \"manufacturer\", \"product dimensions\"]\n",
    "\n",
    "    REPLACE_DICT = {\n",
    "        \"\\u200f\": \"\",\n",
    "        \"\\u200e\": \"\",\n",
    "        \"\\n\\n\": \"\",\n",
    "        \"\\n:\\n\": \":\",\n",
    "        \":\\n\": \": \",\n",
    "    }\n",
    "    details = item[\"product_details\"]\n",
    "    for k, v in REPLACE_DICT.items():\n",
    "        details = details.replace(k, v)\n",
    "\n",
    "    details = details.lower()\n",
    "\n",
    "    detail_lines = details.split(\"\\n\")\n",
    "    detail_dict = {field: \"NA\" for field in fields_to_keep}\n",
    "    for line in detail_lines:\n",
    "        if \":\" in line:\n",
    "            field, value = line.split(\":\", 1)\n",
    "            if field in fields_to_keep:\n",
    "                detail_dict[field] = value.strip()\n",
    "\n",
    "    department_map = {\n",
    "        \"'s\": \"\",\n",
    "        \"’s\": \"\",\n",
    "        \"s’\": \"\",\n",
    "        \"s'\": \"\",\n",
    "    }\n",
    "\n",
    "    department = detail_dict[\"department\"]\n",
    "    for k, v in department_map.items():\n",
    "        department = department.replace(k, v)\n",
    "    \n",
    "    detail_dict[\"department\"] = department\n",
    "    \n",
    "    return detail_dict"
   ]
  },
  {
   "cell_type": "code",
   "execution_count": 63,
   "metadata": {},
   "outputs": [
    {
     "data": {
      "text/plain": [
       "closure                 10767\n",
       "shoe_width              10485\n",
       "sole                     9962\n",
       "outer_material           8726\n",
       "heel_type                6226\n",
       "inner_material           5935\n",
       "heel_height              2939\n",
       "material_composition     1545\n",
       "fit_type                  342\n",
       "material                  185\n",
       "dtype: int64"
      ]
     },
     "execution_count": 63,
     "metadata": {},
     "output_type": "execute_result"
    }
   ],
   "source": [
    "feature_count = {}\n",
    "for item in data:\n",
    "    features = item[\"features\"]\n",
    "    keys = [list(feature.keys())[0].strip().lower() for feature in features]\n",
    "    for key in keys:\n",
    "        key = key.lower().strip().replace(\" \", \"_\")\n",
    "        if key in feature_count:\n",
    "            feature_count[key] += 1\n",
    "        else:\n",
    "            feature_count[key] = 1\n",
    "\n",
    "feature_count = pd.Series(feature_count)\n",
    "feature_count.sort_values(ascending=False).head(10)"
   ]
  },
  {
   "cell_type": "code",
   "execution_count": 64,
   "metadata": {},
   "outputs": [],
   "source": [
    "def get_features(item):\n",
    "    features_to_keep = [\"closure\", \"shoe_width\", \"sole\", \"outer_material\"]\n",
    "    features = item[\"features\"]\n",
    "    feature_dict = {feature: \"NA\" for feature in features_to_keep}\n",
    "    \n",
    "    for feature in features:\n",
    "        feature_name = list(feature.keys())[0]\n",
    "        feature_name = feature_name.lower().strip().replace(\" \", \"_\")\n",
    "        if feature_name in features_to_keep:\n",
    "            feature_value = list(feature.values())[0].lower().strip()\n",
    "            feature_dict[feature_name] = feature_value\n",
    "    \n",
    "    return feature_dict"
   ]
  },
  {
   "cell_type": "code",
   "execution_count": 65,
   "metadata": {},
   "outputs": [],
   "source": [
    "def get_brand(item):\n",
    "    if \"brand\" in item:\n",
    "        brand_info = item[\"brand\"]\n",
    "        if \"Visit the\" in brand_info:\n",
    "            m = re.search(r\"Visit the (.+?) Store\", brand_info)\n",
    "            return m.group(1)\n",
    "        else:\n",
    "            return brand_info\n",
    "    else:\n",
    "        return \"NA\""
   ]
  },
  {
   "cell_type": "code",
   "execution_count": 66,
   "metadata": {},
   "outputs": [
    {
     "data": {
      "text/plain": [
       "adidas         685\n",
       "Skechers       500\n",
       "PUMA           473\n",
       "New Balance    405\n",
       "Reebok         296\n",
       "ASICS          280\n",
       "Geox           255\n",
       "Clarks         211\n",
       "NIKE           164\n",
       "ECCO           144\n",
       "dtype: int64"
      ]
     },
     "execution_count": 66,
     "metadata": {},
     "output_type": "execute_result"
    }
   ],
   "source": [
    "all_brands = []\n",
    "for item in data:\n",
    "    all_brands.append(get_brand(item))\n",
    "\n",
    "brand_count = pd.Series(all_brands).value_counts()\n",
    "brand_count.head(10)"
   ]
  },
  {
   "cell_type": "code",
   "execution_count": 67,
   "metadata": {},
   "outputs": [],
   "source": [
    "def get_category(item):\n",
    "    if \"breadcrumbs\" in item:\n",
    "        breadcrumbs = item[\"breadcrumbs\"]\n",
    "        if breadcrumbs:\n",
    "            return breadcrumbs\n",
    "        else:\n",
    "            return \"NA\"\n",
    "    else:\n",
    "        return \"NA\""
   ]
  },
  {
   "cell_type": "code",
   "execution_count": 68,
   "metadata": {},
   "outputs": [
    {
     "data": {
      "text/plain": [
       "Shoes/Women's Shoes/Fashion & Athletic Trainers/Fashion Trainers                                           2823\n",
       "Shoes/Men's Shoes/Fashion & Athletic Trainers/Fashion Trainers                                             1030\n",
       "NA                                                                                                          584\n",
       "Shoes/Boys' Shoes/Fashion & Athletic Trainers/Fashion Trainers                                              567\n",
       "Shoes/Women's Shoes/Fashion & Athletic Trainers/Sports & Outdoor Shoes/Running Shoes/Road Running Shoes     415\n",
       "Shoes/Men's Shoes/Boots                                                                                     394\n",
       "Shoes/Men's Shoes/Fashion & Athletic Trainers/Sports & Outdoor Shoes/Running Shoes/Road Running Shoes       379\n",
       "Shoes/Men's Shoes/Lace-ups                                                                                  307\n",
       "Shoes/Women's Shoes/Fashion & Athletic Trainers/Sports & Outdoor Shoes/Dance Shoes                          291\n",
       "Shoes/Girls' Shoes/Fashion & Athletic Trainers/Fashion Trainers                                             285\n",
       "dtype: int64"
      ]
     },
     "execution_count": 68,
     "metadata": {},
     "output_type": "execute_result"
    }
   ],
   "source": [
    "item_classes = []\n",
    "for item in data:\n",
    "    item_classes.append(get_category(item))\n",
    "\n",
    "item_classes = pd.Series(item_classes)\n",
    "item_classes.value_counts().head(10)"
   ]
  },
  {
   "cell_type": "code",
   "execution_count": 69,
   "metadata": {},
   "outputs": [],
   "source": [
    "def get_price(item):\n",
    "    price = item[\"price\"]\n",
    "\n",
    "    if price in [\"Check website\", \"NA\", \"\", None]:\n",
    "        return np.nan\n",
    "    \n",
    "    elif \"-\" in price:\n",
    "        price_range = price.split(\"-\")\n",
    "        price1 = float(price_range[0].strip().strip(\"£\").replace(\",\", \"\"))\n",
    "        price2 = float(price_range[1].strip().strip(\"£\").replace(\",\", \"\"))\n",
    "        return (price1 + price2) / 2\n",
    "    \n",
    "    else:\n",
    "        return float(price.strip().strip(\"£\").replace(\",\", \"\"))"
   ]
  },
  {
   "cell_type": "code",
   "execution_count": 118,
   "metadata": {},
   "outputs": [],
   "source": [
    "def get_item_info_doc(item):\n",
    "    info = {\n",
    "        \"id\": item[\"asin\"],\n",
    "        \"url\": item.get(\"url\", \"NA\"),\n",
    "        \"model_name\": item.get(\"title\", \"NA\"),\n",
    "        \"category\": get_category(item),\n",
    "        \"brand\": get_brand(item),\n",
    "    }\n",
    "\n",
    "    features = get_features(item)\n",
    "    details = get_product_details(item)\n",
    "    info.update(features)\n",
    "    info.update(details)\n",
    "\n",
    "    price = item.get(\"price\", \"Check website for price\")\n",
    "    if price is None:\n",
    "        price = \"Check website for price\"\n",
    "\n",
    "    info[\"price_text\"] = price\n",
    "    info[\"price\"] = get_price(item)\n",
    "\n",
    "    return info"
   ]
  },
  {
   "cell_type": "code",
   "execution_count": 121,
   "metadata": {},
   "outputs": [],
   "source": [
    "all_item_data = []\n",
    "for item in data:\n",
    "    all_item_data.append(get_item_info_doc(item))"
   ]
  },
  {
   "cell_type": "code",
   "execution_count": 123,
   "metadata": {},
   "outputs": [],
   "source": [
    "save_path = \"data/parsed_amazon_shoe_data.jsonl\"\n",
    "with open(save_path, \"w\") as f:\n",
    "    for item in all_item_data:\n",
    "        f.write(json.dumps(item) + \"\\n\")"
   ]
  },
  {
   "cell_type": "code",
   "execution_count": 73,
   "metadata": {},
   "outputs": [
    {
     "data": {
      "text/plain": [
       "women                  3919\n",
       "men                    3258\n",
       "girl                   1217\n",
       "unisex kids             917\n",
       "NA                      817\n",
       "unisex                  651\n",
       "boy                     645\n",
       "unisex baby              45\n",
       "baby girls               44\n",
       "baby boys                41\n",
       "unisex adult              9\n",
       "unisex kid                8\n",
       "unisex-child              8\n",
       "men;women                 4\n",
       "synthetic/suede           4\n",
       "unisex-adult              3\n",
       "baby girl                 3\n",
       "adults                    2\n",
       "baby boy                  2\n",
       "sandals                   1\n",
       "boys                      1\n",
       "adults and children       1\n",
       "kids girls                1\n",
       "womens                    1\n",
       "unisex – adults           1\n",
       "patent/nubuck             1\n",
       "junior riding boot        1\n",
       "dtype: int64"
      ]
     },
     "execution_count": 73,
     "metadata": {},
     "output_type": "execute_result"
    }
   ],
   "source": [
    "departments = pd.Series([item[\"department\"] for item in all_item_data])\n",
    "departments.value_counts()"
   ]
  },
  {
   "cell_type": "markdown",
   "metadata": {},
   "source": [
    "### Finetuning templates"
   ]
  },
  {
   "cell_type": "code",
   "execution_count": 124,
   "metadata": {},
   "outputs": [],
   "source": [
    "path = f\"data/parsed_amazon_shoe_data.jsonl\"\n",
    "with open(path, \"r\") as f:\n",
    "    data = []\n",
    "    for line in f:\n",
    "        data.append(json.loads(line))\n",
    "\n",
    "df = pd.DataFrame(data)"
   ]
  },
  {
   "cell_type": "code",
   "execution_count": 125,
   "metadata": {},
   "outputs": [
    {
     "data": {
      "text/plain": [
       "adidas         685\n",
       "Skechers       500\n",
       "PUMA           473\n",
       "New Balance    405\n",
       "Reebok         296\n",
       "ASICS          280\n",
       "Geox           255\n",
       "Clarks         211\n",
       "NIKE           164\n",
       "ECCO           144\n",
       "Name: brand, dtype: int64"
      ]
     },
     "execution_count": 125,
     "metadata": {},
     "output_type": "execute_result"
    }
   ],
   "source": [
    "df[\"brand\"].value_counts().head(10)"
   ]
  },
  {
   "cell_type": "code",
   "execution_count": 126,
   "metadata": {},
   "outputs": [],
   "source": [
    "def get_general_recommendations(brand_name, data):\n",
    "    questions = [\n",
    "        f\"Can you recommend some shoes from {brand_name}?\",\n",
    "        f\"What shoes do you have from {brand_name}?\",\n",
    "        f\"Can you show me some shoes from {brand_name}?\",\n",
    "        f\"Can you recommend some {brand_name} shoes?\",\n",
    "        f\"What are the best {brand_name} shoes?\",\n",
    "        f\"Can you show me some {brand_name} shoes?\",\n",
    "    ]\n",
    "    \n",
    "    rejection_answers = [\n",
    "        \"We currently do not have any shoes from this brand\",\n",
    "        f\"We currently do not have any shoes from {brand_name}.\",\n",
    "        f\"No shoes found for {brand_name}.\",\n",
    "        \"Unfortunately, we do not have any shoes from this brand at the moment.\",\n",
    "        f\"Unfortunately, we do not have any shoes from {brand_name} at the moment.\",\n",
    "        f\"Our collection does not include any shoes from {brand_name}.\",\n",
    "        f\"Sorry, we do not have any shoes from {brand_name}.\",\n",
    "        f\"The brand {brand_name} is not available in our collection.\",\n",
    "        f\"Sorry, we do not have any shoes from this brand.\",\n",
    "    ]\n",
    "\n",
    "    answers = [\n",
    "        f\"Here are some shoes from {brand_name}:\",\n",
    "        f\"Here are some {brand_name} shoes:\",\n",
    "        f\"Here are some shoes from {brand_name} that you might like:\",\n",
    "        f\"Here are some {brand_name} shoes that you might like:\",\n",
    "        f\"Here are some {brand_name} shoes that you might find interesting:\",\n",
    "        f\"Here are some shoes from {brand_name} that you might find interesting:\",\n",
    "    ]\n",
    "    brand_name = brand_name.lower()\n",
    "    \n",
    "    cond = data[\"brand\"].str.lower() == brand_name\n",
    "    brand_df = data[cond]\n",
    "\n",
    "    question = np.random.choice(questions)\n",
    "\n",
    "    if brand_df.empty:\n",
    "        answer = np.random.choice(rejection_answers)\n",
    "    \n",
    "    else:\n",
    "        n = np.random.randint(2, 8)\n",
    "        sample_size = min(n, len(brand_df))\n",
    "        brand_df = brand_df.sample(sample_size)\n",
    "        answer = np.random.choice(answers)\n",
    "        \n",
    "        for i, row in brand_df.iterrows():\n",
    "            model_name = row[\"model_name\"]\n",
    "            price = row[\"price_text\"]\n",
    "            answer += f\"\\n- {model_name} ({price})\"\n",
    "    \n",
    "    return question, answer"
   ]
  },
  {
   "cell_type": "code",
   "execution_count": 160,
   "metadata": {},
   "outputs": [],
   "source": [
    "def get_recommendations_by_price(brand_name, price_range, data):\n",
    "\n",
    "    min_price, max_price = price_range\n",
    "    if min_price is None:\n",
    "        min_price = 0\n",
    "\n",
    "    if max_price is None:\n",
    "        max_price = np.inf\n",
    "    \n",
    "    questions = [\n",
    "        f\"Recommend me some shoes from {brand_name} between £{min_price:.0f} and £{max_price:.0f}\",\n",
    "        f\"Can you show me some shoes from {brand_name} between {min_price:0f} and {max_price:.0f} pounds?\",\n",
    "        f\"What are some {brand_name} shoes between £{min_price:.0f} and £{max_price:.0f}?\",\n",
    "        f\"Can you recommend some {brand_name} shoes between £{min_price:.0f} and £{max_price:.0f}?\",\n",
    "        f\"What are the best {brand_name} shoes between £{min_price:.0f} and £{max_price:.0f}?\",\n",
    "        f\"I want to buy a shoe between £{min_price:.0f} and £{max_price:.0f} from {brand_name}. Can you help me?\",\n",
    "        f\"I want a shoe from {brand_name} that costs less than £{max_price:.0f}.\",\n",
    "        f'Which {brand_name} shoes are available between £{min_price:.0f} and £{max_price:.0f}?',\n",
    "        f\"{brand_name} shoes between £{min_price:.0f} and £{max_price:.0f}?\",\n",
    "    ]\n",
    "\n",
    "    rejection_answers = [\n",
    "        f\"Unfortunately, we do not have any {brand_name} shoes between £{min_price:.0f} and £{max_price:.0f}.\",\n",
    "        f\"Sorry, we do not have any {brand_name} shoes between £{min_price:.0f} and £{max_price:.0f}.\",\n",
    "        f\"No {brand_name} shoes found between £{min_price:.0f} and £{max_price:.0f}.\",\n",
    "        f\"Currently, we do not have any {brand_name} shoes between £{min_price:.0f} and £{max_price:.0f}.\",\n",
    "        f\"Sorry, it seems like we do not have any {brand_name} shoes between £{min_price:.0f} and £{max_price:.0f} at the moment.\",\n",
    "        f\"Currently there are no shoes that meet your criteria. Do you want to try a different price range?\",\n",
    "    ]\n",
    "\n",
    "    answers = [\n",
    "        f\"Here are some shoes from {brand_name} within the range £{min_price:.0f} and £{max_price:.0f}:\",\n",
    "        f\"Here are some {brand_name} shoes within the range £{min_price:.0f} and £{max_price:.0f}:\",\n",
    "        f\"Here are some {brand_name} shoes that you might like within the range £{min_price:.0f} and £{max_price:.0f}:\",\n",
    "        f\"Here are some shoes from {brand_name} that you might like within the range £{min_price:.0f} and £{max_price:.0f}:\",\n",
    "        f\"Here are some {brand_name} shoes that you might find interesting within the range £{min_price:.0f} and £{max_price:.0f}:\",\n",
    "        f\"Here are some shoes from {brand_name} that you might find interesting within the range £{min_price:.0f} and £{max_price:.0f}:\",\n",
    "    ]\n",
    "\n",
    "    cond = (data[\"brand\"].str.lower() == brand_name.lower()) & (data[\"price\"].between(min_price, max_price))\n",
    "    brand_df = data[cond]\n",
    "\n",
    "    question = np.random.choice(questions)\n",
    "\n",
    "    if brand_df.empty:\n",
    "        answer = np.random.choice(rejection_answers)\n",
    "    else:\n",
    "        n = np.random.randint(2, 8)\n",
    "        sample_size = min(n, len(brand_df))\n",
    "        brand_df = brand_df.sample(sample_size)\n",
    "        answer = np.random.choice(answers)\n",
    "        for i, row in brand_df.iterrows():\n",
    "            model_name = row[\"model_name\"]\n",
    "            price = row[\"price_text\"]\n",
    "            answer += f\"\\n- {model_name} ({price})\"\n",
    "\n",
    "    return question, answer"
   ]
  },
  {
   "cell_type": "code",
   "execution_count": 161,
   "metadata": {},
   "outputs": [],
   "source": [
    "def get_recommendations_by_category(category, data):\n",
    "    \"\"\"\n",
    "    Recommend shoes from a specific category (men, women, kids, etc.)\n",
    "    \"\"\"\n",
    "    questions = [\n",
    "        f\"Can you recommend some {category} shoes?\",\n",
    "        f\"What are the best {category} shoes?\",\n",
    "        f\"Can you show me some {category} shoes?\",\n",
    "        f\"Recommend me some {category} shoes.\",\n",
    "        f\"What {category} shoes do you have?\",\n",
    "        f\"Can you show me some {category} shoes?\",\n",
    "        f\"{category} shoes\",\n",
    "    ]\n",
    "\n",
    "    rejection_answers = [\n",
    "        f\"Unfortunately, we do not have any {category} shoes at the moment.\",\n",
    "        f\"Sorry, we do not have any {category} shoes.\",\n",
    "        f\"No {category} shoes found.\",\n",
    "        f\"Currently, we do not have any {category} shoes.\",\n",
    "        f\"Sorry, we do not have any {category} shoes at the moment.\",\n",
    "        f\"Unfortunately, we do not have any {category} shoes.\",\n",
    "        f\"Currently there are no {category} shoes available.\",\n",
    "    ]\n",
    "\n",
    "    answers = [\n",
    "        f\"Here are some {category} shoes:\",\n",
    "        f\"Here are some {category} shoes that you might like:\",\n",
    "        f\"Here are some {category} shoes that you might find interesting:\",\n",
    "        f\"Here are some {category} shoes that you might find appealing:\",\n",
    "        f\"Here are some {category} shoes that you might like:\",\n",
    "    ]\n",
    "\n",
    "    cond = data[\"department\"].str.lower() == category.lower()\n",
    "    category_df = data[cond]\n",
    "\n",
    "    question = np.random.choice(questions)\n",
    "\n",
    "    if category_df.empty:\n",
    "        answer = np.random.choice(rejection_answers)\n",
    "    else:\n",
    "        n = np.random.randint(2, 8)\n",
    "        sample_size = min(n, len(category_df))\n",
    "        category_df = category_df.sample(sample_size)\n",
    "        answer = np.random.choice(answers)\n",
    "        for i, row in category_df.iterrows():\n",
    "            model_name = row[\"model_name\"]\n",
    "            price = row[\"price_text\"]\n",
    "            answer += f\"\\n- {model_name} ({price})\"\n",
    "    \n",
    "    return question, answer"
   ]
  },
  {
   "cell_type": "code",
   "execution_count": 162,
   "metadata": {},
   "outputs": [],
   "source": [
    "def get_recommendations_by_category_brand(category, brand_name, data):\n",
    "\n",
    "    questions = [\n",
    "        f\"Can you recommend some {category} shoes from {brand_name}?\",\n",
    "        f\"What are the best {category} shoes from {brand_name}?\",\n",
    "        f\"Can you show me some {category} shoes from {brand_name}?\",\n",
    "        f\"Recommend me some {category} shoes from {brand_name}.\",\n",
    "        f\"What {category} shoes do you have from {brand_name}?\",\n",
    "        f\"Show me some {category} shoes from {brand_name}?\",\n",
    "        f\"{category} shoes from {brand_name}\",\n",
    "    ]\n",
    "\n",
    "    answers = [\n",
    "        f\"Here are some {category} shoes from {brand_name}:\",\n",
    "        f\"Here are some {category} shoes from {brand_name} that you might like:\",\n",
    "        f\"Here are some {category} shoes from {brand_name} that you might find interesting:\",\n",
    "        f\"Here are some {category} shoes from {brand_name} that you might find appealing:\",\n",
    "        f\"Here are some {category} shoes from {brand_name} that you might like:\",\n",
    "    ]\n",
    "\n",
    "    rejection_answers = [\n",
    "        f\"Unfortunately, we do not have any {category} shoes from {brand_name} at the moment.\",\n",
    "        f\"Sorry, we do not have any {category} shoes from {brand_name}.\",\n",
    "        f\"No {category} shoes found for {brand_name}.\",\n",
    "        f\"Currently, we do not have any {category} shoes from {brand_name}.\",\n",
    "        f\"Sorry, we do not have any {category} shoes from {brand_name} at the moment.\",\n",
    "        f\"Unfortunately, we do not have any {category} shoes from {brand_name}.\",\n",
    "        f\"Currently there are no {category} shoes available from {brand_name}.\",\n",
    "    ]\n",
    "\n",
    "    cond = (data[\"department\"].str.lower() == category.lower()) & (data[\"brand\"].str.lower() == brand_name.lower())\n",
    "\n",
    "    category_brand_df = data[cond]\n",
    "\n",
    "    question = np.random.choice(questions)\n",
    "\n",
    "    if category_brand_df.empty:\n",
    "        answer = np.random.choice(rejection_answers)\n",
    "    else:\n",
    "        n = np.random.randint(2, 8)\n",
    "        sample_size = min(n, len(category_brand_df))\n",
    "        category_brand_df = category_brand_df.sample(sample_size)\n",
    "        answer = np.random.choice(answers)\n",
    "        for i, row in category_brand_df.iterrows():\n",
    "            model_name = row[\"model_name\"]\n",
    "            price = row[\"price_text\"]\n",
    "            answer += f\"\\n- {model_name} ({price})\"\n",
    "    \n",
    "    return question, answer"
   ]
  },
  {
   "cell_type": "code",
   "execution_count": 135,
   "metadata": {},
   "outputs": [
    {
     "name": "stdout",
     "output_type": "stream",
     "text": [
      "Can you show me some men shoes from Reebok?\n",
      "Here are some men shoes from Reebok that you might like:\n",
      "- Reebok Men's Sole Fury Adapt Cross Trainer (£64.10 - £163.88)\n",
      "- Reebok Women's Twistform Blaze 3.0 MTM Running Shoe, 0 (£96.99 - £136.71)\n"
     ]
    }
   ],
   "source": [
    "brand_name = \"Reebok\"\n",
    "min_price = 50\n",
    "max_price = 100\n",
    "category = \"men\"\n",
    "# q, a = get_general_recommendations(brand_name, df)\n",
    "\n",
    "# q, a = get_recommendations_by_price(brand_name, (min_price, max_price), df)\n",
    "\n",
    "# q, a = get_recommendations_by_category(category, df)\n",
    "\n",
    "q, a = get_recommendations_by_category_brand(category, brand_name, df)\n",
    "print(q)\n",
    "print(a)"
   ]
  },
  {
   "cell_type": "code",
   "execution_count": 142,
   "metadata": {},
   "outputs": [
    {
     "data": {
      "text/plain": [
       "Index(['women', 'men', 'girl', 'unisex kids', 'NA', 'unisex', 'boy',\n",
       "       'unisex baby', 'baby girls', 'baby boys'],\n",
       "      dtype='object')"
      ]
     },
     "execution_count": 142,
     "metadata": {},
     "output_type": "execute_result"
    }
   ],
   "source": [
    "df[\"department\"].value_counts().head(10).index"
   ]
  },
  {
   "cell_type": "code",
   "execution_count": 187,
   "metadata": {},
   "outputs": [],
   "source": [
    "all_brand_names = df[\"brand\"].value_counts().head(20).index\n",
    "all_categories = [\n",
    "    'women', 'men', 'girl', 'unisex kids', 'unisex', 'boy', 'unisex baby', 'baby girls', 'baby boys'\n",
    "    ]\n",
    "\n",
    "num_samples = 1500\n",
    "sample_1 = []\n",
    "for sample_id in range(num_samples):\n",
    "    brand_name = np.random.choice(all_brand_names)\n",
    "    cond = df[\"brand\"] == brand_name\n",
    "    brand_df = df[cond]\n",
    "    categories = brand_df[\"department\"].unique()\n",
    "    categories = [c for c in categories if c in all_categories]\n",
    "    category = np.random.choice(categories)\n",
    "    q, a = get_recommendations_by_category_brand(category, brand_name, df)\n",
    "    sample_1.append({\"question\": q, \"answer\": a})\n",
    "\n",
    "\n",
    "num_samples = 1500\n",
    "sample_2 = []\n",
    "for sample_id in range(num_samples):\n",
    "    brand_name = np.random.choice(all_brand_names)\n",
    "    cond = df[\"brand\"] == brand_name\n",
    "    brand_df = df[cond]\n",
    "    min_price = brand_df[\"price\"].min()\n",
    "    max_price = brand_df[\"price\"].max()\n",
    "    if min_price == max_price:\n",
    "        continue\n",
    "\n",
    "    min_price = np.random.randint(0, max_price)\n",
    "    max_price = np.random.randint(min_price, max_price)\n",
    "    if np.isnan(min_price):\n",
    "        min_price = 0\n",
    "    if np.isnan(max_price):\n",
    "        max_price = 100\n",
    "    \n",
    "    q, a = get_recommendations_by_price(brand_name, (min_price, max_price), df)\n",
    "    sample_2.append({\"question\": q, \"answer\": a})\n",
    "\n",
    "\n",
    "num_samples = 500\n",
    "sample_3 = []\n",
    "existing_questions = set()\n",
    "for sample_id in range(num_samples):\n",
    "    category = np.random.choice(all_categories)\n",
    "    q, a = get_recommendations_by_category(category, df)\n",
    "    if q in existing_questions:\n",
    "        continue\n",
    "    existing_questions.add(q)\n",
    "    sample_3.append({\"question\": q, \"answer\": a})\n",
    "\n",
    "all_samples = sample_1 + sample_2 + sample_3\n",
    "\n",
    "samples = pd.DataFrame(all_samples)\n",
    "samples.drop_duplicates(subset=\"question\", inplace=True)\n",
    "samples.drop_duplicates(subset=\"answer\", inplace=True)\n",
    "samples.insert(0, \"id\", range(1, 1 + len(samples)))\n",
    "\n",
    "samples = samples.to_dict(orient=\"records\")\n"
   ]
  },
  {
   "cell_type": "code",
   "execution_count": 188,
   "metadata": {},
   "outputs": [],
   "source": [
    "samples = samples.to_dict(orient=\"records\")"
   ]
  },
  {
   "cell_type": "code",
   "execution_count": 189,
   "metadata": {},
   "outputs": [
    {
     "data": {
      "text/plain": [
       "{'id': 1,\n",
       " 'question': 'What are the best women shoes from Geox?',\n",
       " 'answer': \"Here are some women shoes from Geox that you might like:\\n- Geox Women's D Smeraldo a Low-Top Sneakers (£47.28 - £144.69)\\n- Geox New Club C Women Loafers (£51.25 - £79.62)\\n- Geox Women's D Nhenbus C Low-Top Sneakers (£61.28 - £100.51)\\n- Geox Women's D Nebula C Sneaker (£54.04 - £103.43)\"}"
      ]
     },
     "execution_count": 189,
     "metadata": {},
     "output_type": "execute_result"
    }
   ],
   "source": [
    "samples[0]"
   ]
  },
  {
   "cell_type": "code",
   "execution_count": 191,
   "metadata": {},
   "outputs": [],
   "source": [
    "save_path = \"data/finetuning_dataset.json\"\n",
    "with open(save_path, \"w\") as f:\n",
    "    for sample in samples:\n",
    "        f.write(json.dumps(sample) + \"\\n\")"
   ]
  },
  {
   "cell_type": "markdown",
   "metadata": {},
   "source": [
    "## Database documents"
   ]
  },
  {
   "cell_type": "code",
   "execution_count": 2,
   "metadata": {},
   "outputs": [],
   "source": [
    "path = f\"data/parsed_amazon_shoe_data.jsonl\"\n",
    "with open(path, \"r\") as f:\n",
    "    data = []\n",
    "    for line in f:\n",
    "        data.append(json.loads(line))\n",
    "\n",
    "df = pd.DataFrame(data)"
   ]
  },
  {
   "cell_type": "code",
   "execution_count": 3,
   "metadata": {},
   "outputs": [
    {
     "data": {
      "text/plain": [
       "{'id': 'B08BLP231K',\n",
       " 'url': 'https://www.amazon.co.uk/dp/B08BLP231K',\n",
       " 'model_name': 'Geox Jr Sandal Strada B Fisherman, Brown Red, 2.5 UK Child',\n",
       " 'category': \"Shoes/Boys' Shoes/Sandals\",\n",
       " 'brand': 'Geox',\n",
       " 'closure': 'strap',\n",
       " 'shoe_width': 'medium',\n",
       " 'sole': 'rubber',\n",
       " 'outer_material': 'synthetic',\n",
       " 'department': 'boy',\n",
       " 'manufacturer': 'geox',\n",
       " 'product dimensions': 'NA',\n",
       " 'price_text': '£50.00',\n",
       " 'price': 50.0}"
      ]
     },
     "execution_count": 3,
     "metadata": {},
     "output_type": "execute_result"
    }
   ],
   "source": [
    "data[0]"
   ]
  },
  {
   "cell_type": "code",
   "execution_count": 16,
   "metadata": {},
   "outputs": [],
   "source": [
    "def prepare_database_documents(item):\n",
    "    text = \"\"\n",
    "    text += f\"Model: {item['model_name']}\\n\"\n",
    "    text += f\"Brand: {item['brand']}\\n\"\n",
    "    text += f\"Manufacturer: {item['manufacturer']}\\n\"\n",
    "    text += f\"Category: {item['category']}\\n\"\n",
    "    text += f\"Department: {item['department']}\\n\"\n",
    "    text += f\"Price: {item['price_text']}\\n\"\n",
    "    text += f\"Shoe Width: {item['shoe_width']}\\n\"\n",
    "    text += f\"Outer Material: {item['outer_material']}\\n\"\n",
    "    text += f\"Sole: {item['sole']}\\n\"\n",
    "    text += f\"Closure: {item['closure']}\\n\"\n",
    "    text += f\"Product Dimensions: {item['product dimensions']}\\n\"\n",
    "\n",
    "    doc = {\n",
    "        \"id\": item[\"id\"],\n",
    "        \"url\": item[\"url\"],\n",
    "        \"closure\": item[\"closure\"],\n",
    "        \"price\": item[\"price\"],\n",
    "        \"brand\": item[\"brand\"],\n",
    "        \"department\": item[\"department\"],\n",
    "        \"text\": text,\n",
    "    }\n",
    "\n",
    "    return doc"
   ]
  },
  {
   "cell_type": "code",
   "execution_count": 18,
   "metadata": {},
   "outputs": [],
   "source": [
    "docs = []\n",
    "for item in data:\n",
    "    docs.append(prepare_database_documents(item))"
   ]
  },
  {
   "cell_type": "code",
   "execution_count": 21,
   "metadata": {},
   "outputs": [
    {
     "name": "stdout",
     "output_type": "stream",
     "text": [
      "Model: GIOSEPPO Women's Gerpinnes Sneaker\n",
      "Brand: GIOSEPPO\n",
      "Manufacturer: gioseppo\n",
      "Category: Shoes/Women's Shoes/Fashion & Athletic Trainers/Fashion Trainers\n",
      "Department: women\n",
      "Price: £78.26 - £78.67\n",
      "Shoe Width: medium\n",
      "Outer Material: 30% polyester, 25% pu, 45% vaccine\n",
      "Sole: 100% tpr\n",
      "Closure: lace-up\n",
      "Product Dimensions: NA\n",
      "\n"
     ]
    }
   ],
   "source": [
    "print(docs[-10][\"text\"])"
   ]
  },
  {
   "cell_type": "code",
   "execution_count": 23,
   "metadata": {},
   "outputs": [],
   "source": [
    "save_path = \"data/amazon_shoe_database.jsonl\"\n",
    "with open(save_path, \"w\") as f:\n",
    "    for doc in docs:\n",
    "        f.write(json.dumps(doc) + \"\\n\")"
   ]
  },
  {
   "cell_type": "code",
   "execution_count": 24,
   "metadata": {},
   "outputs": [
    {
     "data": {
      "text/plain": [
       "11605"
      ]
     },
     "execution_count": 24,
     "metadata": {},
     "output_type": "execute_result"
    }
   ],
   "source": [
    "len(docs)"
   ]
  }
 ],
 "metadata": {
  "kernelspec": {
   "display_name": "general_env",
   "language": "python",
   "name": "python3"
  },
  "language_info": {
   "codemirror_mode": {
    "name": "ipython",
    "version": 3
   },
   "file_extension": ".py",
   "mimetype": "text/x-python",
   "name": "python",
   "nbconvert_exporter": "python",
   "pygments_lexer": "ipython3",
   "version": "3.11.0"
  }
 },
 "nbformat": 4,
 "nbformat_minor": 2
}
