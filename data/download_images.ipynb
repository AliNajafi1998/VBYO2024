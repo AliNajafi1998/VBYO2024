{
 "cells": [
  {
   "cell_type": "code",
   "execution_count": 21,
   "metadata": {},
   "outputs": [
    {
     "name": "stdout",
     "output_type": "stream",
     "text": [
      "\n",
      "Caching the list of root modules, please wait!\n",
      "(This will only be done once - type '%rehashx' to reset cache!)\n",
      "\n"
     ]
    },
    {
     "name": "stderr",
     "output_type": "stream",
     "text": [
      "C:\\Users\\suuser\\AppData\\Roaming\\Python\\Python311\\site-packages\\IPython\\core\\completerlib.py:146: UserWarning: using rootmodules_cache requires you to install the `pickleshare` library.\n",
      "  ip.db['rootmodules_cache'] = rootmodules_cache\n"
     ]
    }
   ],
   "source": [
    "import requests # \n",
    "import shutil  \n",
    "import json\n",
    "\n",
    "from tqdm import tqdm\n",
    "from multiprocessing.dummy import Pool as ThreadPool\n",
    "import time\n",
    "\n",
    "import os"
   ]
  },
  {
   "cell_type": "code",
   "execution_count": 4,
   "metadata": {},
   "outputs": [],
   "source": [
    "with open(\"amazon_uk_shoes_dataset.json\", \"r\") as fh:\n",
    "    amazon_data = json.load(fh)"
   ]
  },
  {
   "cell_type": "code",
   "execution_count": 5,
   "metadata": {},
   "outputs": [],
   "source": [
    "all_image_counts = 0\n",
    "for i in amazon_data:\n",
    "    image_urls = i.get(\"images_list\", [])\n",
    "    all_image_counts += len(image_urls)"
   ]
  },
  {
   "cell_type": "code",
   "execution_count": 6,
   "metadata": {},
   "outputs": [
    {
     "data": {
      "text/plain": [
       "70352"
      ]
     },
     "execution_count": 6,
     "metadata": {},
     "output_type": "execute_result"
    }
   ],
   "source": [
    "all_image_counts"
   ]
  },
  {
   "cell_type": "code",
   "execution_count": 7,
   "metadata": {},
   "outputs": [
    {
     "data": {
      "text/plain": [
       "{'url': 'https://www.amazon.co.uk/dp/B07TD54MBQ',\n",
       " 'title': 'viking Jolly Winter Rain Boot Child',\n",
       " 'asin': 'B07TD54MBQ',\n",
       " 'price': '£18.32 - £43.87',\n",
       " 'brand': 'Visit the Viking Store',\n",
       " 'product_details': 'Package Dimensions\\n\\u200f\\n:\\n\\u200e\\n\\n20.2 x 17.4 x 11 cm; 562 Grams\\n\\n\\nDate First Available\\n\\u200f\\n:\\n\\u200e\\n\\n30 Jun. 2019\\n\\n\\nManufacturer\\n\\u200f\\n:\\n\\u200e\\n\\nViking\\n\\n\\nASIN\\n\\u200f\\n:\\n\\u200e\\n\\nB07TGD1QQH\\n\\n\\nItem model number\\n\\u200f\\n:\\n\\u200e\\n\\n1-12150\\n\\n\\nDepartment\\n\\u200f\\n:\\n\\u200e\\n\\nUnisex Kids',\n",
       " 'breadcrumbs': \"Shoes/Boys' Shoes/Boots\",\n",
       " 'images_list': ['https://m.media-amazon.com/images/I/31LftlwGa6L.jpg',\n",
       "  'https://m.media-amazon.com/images/I/314OUUenRxL.jpg',\n",
       "  'https://m.media-amazon.com/images/I/31ZCevc9vOL.jpg',\n",
       "  'https://m.media-amazon.com/images/I/31xIGtCPMdL.jpg',\n",
       "  'https://m.media-amazon.com/images/I/31o6E9QKrVL.jpg',\n",
       "  'https://m.media-amazon.com/images/I/31TkWx7zo6L.jpg',\n",
       "  'https://m.media-amazon.com/images/I/41cGs+EwDDL.jpg'],\n",
       " 'features': [{'Outer Material': 'Rubber'},\n",
       "  {'Inner Material': 'Manmade'},\n",
       "  {'Sole': 'Rubber'},\n",
       "  {'Closure': 'Slip-On'},\n",
       "  {'Shoe Width': 'Weit'}]}"
      ]
     },
     "execution_count": 7,
     "metadata": {},
     "output_type": "execute_result"
    }
   ],
   "source": [
    "i"
   ]
  },
  {
   "cell_type": "code",
   "execution_count": 26,
   "metadata": {},
   "outputs": [],
   "source": [
    "urls_ids = []\n",
    "for i in amazon_data:\n",
    "    image_urls = i.get(\"images_list\", [])\n",
    "    for index, img_url in enumerate(image_urls):\n",
    "        urls_ids.append((i[\"asin\"], img_url, index))"
   ]
  },
  {
   "cell_type": "code",
   "execution_count": 18,
   "metadata": {},
   "outputs": [],
   "source": [
    "def download_image(url_id_index):\n",
    "    product_id, image_url, index = url_id_index\n",
    "    res = requests.get(image_url, stream=True)\n",
    "    if res.status_code == 200:\n",
    "        file_name = product_id + \"_\" + str(index)\n",
    "        with open(f\"images/{file_name}.jpg\" ,'wb') as f:\n",
    "            shutil.copyfileobj(res.raw, f)\n",
    "            time.sleep(0.1)\n",
    "    else:\n",
    "        with open(\"errors.txt\", \"a\") as ef:\n",
    "            ef.write(product_id + \"\\n\")"
   ]
  },
  {
   "cell_type": "code",
   "execution_count": 29,
   "metadata": {},
   "outputs": [
    {
     "name": "stdout",
     "output_type": "stream",
     "text": [
      "Downloading Images:  100%|███████████| 70352/70352 [2:28:27<00:00,  7.90it/s]  \n"
     ]
    }
   ],
   "source": [
    "with ThreadPool(10) as pool:\n",
    "    with tqdm(total=len(urls_ids), desc='Downloading Images') as progress_bar:\n",
    "        for _ in pool.imap_unordered(download_image, urls_ids):\n",
    "            progress_bar.update(1)"
   ]
  }
 ],
 "metadata": {
  "kernelspec": {
   "display_name": "Python 3",
   "language": "python",
   "name": "python3"
  },
  "language_info": {
   "codemirror_mode": {
    "name": "ipython",
    "version": 3
   },
   "file_extension": ".py",
   "mimetype": "text/x-python",
   "name": "python",
   "nbconvert_exporter": "python",
   "pygments_lexer": "ipython3",
   "version": "3.11.5"
  }
 },
 "nbformat": 4,
 "nbformat_minor": 2
}
